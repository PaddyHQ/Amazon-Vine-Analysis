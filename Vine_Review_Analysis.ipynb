{
  "nbformat": 4,
  "nbformat_minor": 0,
  "metadata": {
    "colab": {
      "name": "Vine_Review_Analysis.ipynb",
      "provenance": [],
      "collapsed_sections": []
    },
    "kernelspec": {
      "name": "python3",
      "display_name": "Python 3"
    },
    "language_info": {
      "name": "python"
    }
  },
  "cells": [
    {
      "cell_type": "code",
      "execution_count": null,
      "metadata": {
        "colab": {
          "base_uri": "https://localhost:8080/"
        },
        "id": "j7DEcWqBA9Ng",
        "outputId": "f93e5310-4b33-4868-d6e7-73a71030349d"
      },
      "outputs": [
        {
          "output_type": "stream",
          "name": "stdout",
          "text": [
            "Hit:1 https://cloud.r-project.org/bin/linux/ubuntu bionic-cran40/ InRelease\n",
            "Ign:2 https://developer.download.nvidia.com/compute/cuda/repos/ubuntu1804/x86_64  InRelease\n",
            "Ign:3 https://developer.download.nvidia.com/compute/machine-learning/repos/ubuntu1804/x86_64  InRelease\n",
            "Hit:4 https://developer.download.nvidia.com/compute/cuda/repos/ubuntu1804/x86_64  Release\n",
            "Hit:5 https://developer.download.nvidia.com/compute/machine-learning/repos/ubuntu1804/x86_64  Release\n",
            "Get:6 http://security.ubuntu.com/ubuntu bionic-security InRelease [88.7 kB]\n",
            "Get:7 http://ppa.launchpad.net/c2d4u.team/c2d4u4.0+/ubuntu bionic InRelease [15.9 kB]\n",
            "Hit:9 http://archive.ubuntu.com/ubuntu bionic InRelease\n",
            "Get:11 http://archive.ubuntu.com/ubuntu bionic-updates InRelease [88.7 kB]\n",
            "Hit:12 http://ppa.launchpad.net/cran/libgit2/ubuntu bionic InRelease\n",
            "Hit:13 http://ppa.launchpad.net/deadsnakes/ppa/ubuntu bionic InRelease\n",
            "Get:14 http://archive.ubuntu.com/ubuntu bionic-backports InRelease [74.6 kB]\n",
            "Hit:15 http://ppa.launchpad.net/graphics-drivers/ppa/ubuntu bionic InRelease\n",
            "Get:16 http://ppa.launchpad.net/c2d4u.team/c2d4u4.0+/ubuntu bionic/main Sources [1,824 kB]\n",
            "Get:17 http://ppa.launchpad.net/c2d4u.team/c2d4u4.0+/ubuntu bionic/main amd64 Packages [935 kB]\n",
            "Fetched 3,027 kB in 6s (469 kB/s)\n",
            "Reading package lists... Done\n"
          ]
        }
      ],
      "source": [
        "import os\n",
        "# Find the latest version of spark 3.0 from http://www.apache.org/dist/spark/ and enter as the spark version\n",
        "# For example:\n",
        "# spark_version = 'spark-3.0.3'\n",
        "spark_version = 'spark-3.2.1'\n",
        "os.environ['SPARK_VERSION']=spark_version\n",
        "\n",
        "# Install Spark and Java\n",
        "!apt-get update\n",
        "!apt-get install openjdk-11-jdk-headless -qq > /dev/null\n",
        "!wget -q http://www.apache.org/dist/spark/$SPARK_VERSION/$SPARK_VERSION-bin-hadoop2.7.tgz\n",
        "!tar xf $SPARK_VERSION-bin-hadoop2.7.tgz\n",
        "!pip install -q findspark\n",
        "\n",
        "# Set Environment Variables\n",
        "import os\n",
        "os.environ[\"JAVA_HOME\"] = \"/usr/lib/jvm/java-11-openjdk-amd64\"\n",
        "os.environ[\"SPARK_HOME\"] = f\"/content/{spark_version}-bin-hadoop2.7\"\n",
        "\n",
        "# Start a SparkSession\n",
        "import findspark\n",
        "findspark.init()"
      ]
    },
    {
      "cell_type": "code",
      "source": [
        "# Download the Postgres driver that will allow Spark to interact with Postgres.\n",
        "!wget https://jdbc.postgresql.org/download/postgresql-42.2.16.jar"
      ],
      "metadata": {
        "colab": {
          "base_uri": "https://localhost:8080/"
        },
        "id": "HHTHzVRoBAr7",
        "outputId": "faaff66a-0929-4eb6-8584-1caefbd96576"
      },
      "execution_count": null,
      "outputs": [
        {
          "output_type": "stream",
          "name": "stdout",
          "text": [
            "--2022-02-07 00:59:59--  https://jdbc.postgresql.org/download/postgresql-42.2.16.jar\n",
            "Resolving jdbc.postgresql.org (jdbc.postgresql.org)... 72.32.157.228, 2001:4800:3e1:1::228\n",
            "Connecting to jdbc.postgresql.org (jdbc.postgresql.org)|72.32.157.228|:443... connected.\n",
            "HTTP request sent, awaiting response... 200 OK\n",
            "Length: 1002883 (979K) [application/java-archive]\n",
            "Saving to: ‘postgresql-42.2.16.jar.1’\n",
            "\n",
            "postgresql-42.2.16. 100%[===================>] 979.38K  1.23MB/s    in 0.8s    \n",
            "\n",
            "2022-02-07 01:00:01 (1.23 MB/s) - ‘postgresql-42.2.16.jar.1’ saved [1002883/1002883]\n",
            "\n"
          ]
        }
      ]
    },
    {
      "cell_type": "code",
      "source": [
        "from pyspark import SparkConf\n",
        "from pyspark.sql import SparkSession\n",
        "spark = SparkSession.builder.master('local').config(conf=SparkConf()).getOrCreate()"
      ],
      "metadata": {
        "id": "HlX9VyzfBCVO"
      },
      "execution_count": null,
      "outputs": []
    },
    {
      "cell_type": "markdown",
      "source": [
        "from pyspark import SparkFiles\n",
        "path_to_csv= 'D:/DevTools/Repos/Patrick/Amazon-Vine-Analysis/vine_table.csv'\n",
        "spark.read.csv(path_to_csv, inferSchema=True)"
      ],
      "metadata": {
        "id": "MmSJtT_ABD4R"
      }
    },
    {
      "cell_type": "code",
      "source": [
        "from pyspark.sql.functions import to_date\n",
        "# Read in the Review dataset as a DataFrame\n",
        "df = spark.read.option(\"encoding\", \"UTF-8\").csv(SparkFiles.get(\"\"), sep=\"\\t\", header=True, inferSchema=True)\n",
        "df.show()"
      ],
      "metadata": {
        "colab": {
          "base_uri": "https://localhost:8080/"
        },
        "id": "MeyZdlVaBFX1",
        "outputId": "f40bb8a9-d3e5-4f54-bb2f-1605e7c29fe4"
      },
      "execution_count": null,
      "outputs": [
        {
          "output_type": "stream",
          "name": "stdout",
          "text": [
            "+-----------+-----------+--------------+----------+--------------+--------------------+-------------------+-----------+-------------+-----------+----+-----------------+--------------------+--------------------+-----------+\n",
            "|marketplace|customer_id|     review_id|product_id|product_parent|       product_title|   product_category|star_rating|helpful_votes|total_votes|vine|verified_purchase|     review_headline|         review_body|review_date|\n",
            "+-----------+-----------+--------------+----------+--------------+--------------------+-------------------+-----------+-------------+-----------+----+-----------------+--------------------+--------------------+-----------+\n",
            "|         US|   45610553| RMDCHWD0Y5OZ9|B00HH62VB6|     618218723|AGPtek® 10 Isolat...|Musical Instruments|          3|            0|          1|   N|                N|         Three Stars|Works very good, ...| 2015-08-31|\n",
            "|         US|   14640079| RZSL0BALIYUNU|B003LRN53I|     986692292|Sennheiser HD203 ...|Musical Instruments|          5|            0|          0|   N|                Y|          Five Stars|Nice headphones a...| 2015-08-31|\n",
            "|         US|    6111003| RIZR67JKUDBI0|B0006VMBHI|     603261968|AudioQuest LP rec...|Musical Instruments|          3|            0|          1|   N|                Y|         Three Stars|removes dust. doe...| 2015-08-31|\n",
            "|         US|    1546619|R27HL570VNL85F|B002B55TRG|     575084461|Hohner Inc. 560BX...|Musical Instruments|          5|            0|          0|   N|                Y|I purchase these ...|I purchase these ...| 2015-08-31|\n",
            "|         US|   12222213|R34EBU9QDWJ1GD|B00N1YPXW2|     165236328|Blue Yeti USB Mic...|Musical Instruments|          5|            0|          0|   N|                Y|          Five Stars|This is an awesom...| 2015-08-31|\n",
            "|         US|   46018513|R1WCUI4Z1SIQEO|B001N4GRGS|     134151483|Middle Atlantic P...|Musical Instruments|          5|            0|          0|   N|                N|          Five Stars|Used to cool equi...| 2015-08-31|\n",
            "|         US|   10225065| RL5LNO26GAVJ1|B009PJRMHQ|     694166585|Kmise 1pc Pickgua...|Musical Instruments|          2|            3|          4|   N|                Y|Will not Fit Epip...|Note- Does not Fi...| 2015-08-31|\n",
            "|         US|    6356995|R3GYQ5W8JHP8SB|B00NKBDAZS|     446431775|Kealoha Concert U...|Musical Instruments|          5|            0|          0|   N|                Y|          Five Stars|Well built Ukulel...| 2015-08-31|\n",
            "|         US|   35297198|R30SHYQXGG5EYC|B006MIU7U2|     125871705|Halco 80000 - MR1...|Musical Instruments|          5|            0|          0|   N|                Y|Works fine. Hope ...|Had to replace a ...| 2015-08-31|\n",
            "|         US|   32139520|R14YLXA56NP51I|B000FIBD0I|     771888534|Gator GPTBLACK Pl...|Musical Instruments|          5|            1|          1|   N|                N|I upgraded the po...|I've owned multip...| 2015-08-31|\n",
            "|         US|   36060782|R1ZH0HSH38IOTZ|B0002E52GG|      68535945|Hetman 1 - Light ...|Musical Instruments|          5|            0|          0|   N|                Y|My son's favourit...|Consistent qualit...| 2015-08-31|\n",
            "|         US|    5301309|R3H53KLLC210XI|B00RZIH52G|     725541773|Dragonpad pop fil...|Musical Instruments|          4|            0|          0|   N|                Y|Great pop filter ...|by far the best p...| 2015-08-31|\n",
            "|         US|   37472935|R3OOR877NGA8JK|B001792BAU|      46570323|DharmaObjects Rel...|Musical Instruments|          3|            0|          0|   N|                Y|                  Ok|Beautiful set. On...| 2015-08-31|\n",
            "|         US|   33578270|R1BY7WKOZ3KMH0|B009GSKW1Y|     547963417|Musiclily SSS Pla...|Musical Instruments|          2|            0|          0|   N|                Y|           Two Stars|Bridge pickup was...| 2015-08-31|\n",
            "|         US|   22070226| RXP1TFSWE8EG9|B0002F4TKA|     436074323|Vic Firth America...|Musical Instruments|          5|            0|          0|   N|                Y|          Five Stars|Feels good and la...| 2015-08-31|\n",
            "|         US|   52862655|R3J44DPP12OTLJ|B00K17YFBW|      81933093|Guitar Stand for ...|Musical Instruments|          5|            0|          0|   N|                Y|Great stand... on...|I love the stand....| 2015-08-31|\n",
            "|         US|    4427243| RFOV69SK0T676|B00EQ24HJS|     669249276|Generic 3PLY Faux...|Musical Instruments|          5|            0|          0|   N|                Y|Looks great. You ...|On time. Looks gr...| 2015-08-31|\n",
            "|         US|   14108571|R2HUWDNW62FOL3|B00IBOYTUE|     749537231|Audio 2000 6525 3...|Musical Instruments|          1|            0|          0|   N|                Y|  Poor sound quality|I was hoping it w...| 2015-08-31|\n",
            "|         US|   27314089|R1KSU30XZGR452|B00FBRUSAE|     792472601|Sawtooth ST-AMP-1...|Musical Instruments|          5|            0|          0|   N|                Y|Perfect for the b...|Good sound for it...| 2015-08-31|\n",
            "|         US|   16735445|R2TZVLLTSHA07N|B0113D2QUO|     269114019|Upado Unlimited G...|Musical Instruments|          5|            1|          1|   N|                Y|It really is a mu...|Wow! I didn't exp...| 2015-08-31|\n",
            "+-----------+-----------+--------------+----------+--------------+--------------------+-------------------+-----------+-------------+-----------+----+-----------------+--------------------+--------------------+-----------+\n",
            "only showing top 20 rows\n",
            "\n"
          ]
        }
      ]
    },
    {
      "cell_type": "code",
      "source": [
        "# Create the vine_table. DataFrame\n",
        "vine_df = df.select(['review_id','star_rating','helpful_votes','total_votes','vine','verified_purchase'])\n",
        "vine_df.show()"
      ],
      "metadata": {
        "id": "hnqTNGrUBIoJ",
        "colab": {
          "base_uri": "https://localhost:8080/"
        },
        "outputId": "1c4487f8-f98a-4af3-8754-c2fb7af44ae6"
      },
      "execution_count": null,
      "outputs": [
        {
          "output_type": "stream",
          "name": "stdout",
          "text": [
            "+--------------+-----------+-------------+-----------+----+-----------------+\n",
            "|     review_id|star_rating|helpful_votes|total_votes|vine|verified_purchase|\n",
            "+--------------+-----------+-------------+-----------+----+-----------------+\n",
            "| RMDCHWD0Y5OZ9|          3|            0|          1|   N|                N|\n",
            "| RZSL0BALIYUNU|          5|            0|          0|   N|                Y|\n",
            "| RIZR67JKUDBI0|          3|            0|          1|   N|                Y|\n",
            "|R27HL570VNL85F|          5|            0|          0|   N|                Y|\n",
            "|R34EBU9QDWJ1GD|          5|            0|          0|   N|                Y|\n",
            "|R1WCUI4Z1SIQEO|          5|            0|          0|   N|                N|\n",
            "| RL5LNO26GAVJ1|          2|            3|          4|   N|                Y|\n",
            "|R3GYQ5W8JHP8SB|          5|            0|          0|   N|                Y|\n",
            "|R30SHYQXGG5EYC|          5|            0|          0|   N|                Y|\n",
            "|R14YLXA56NP51I|          5|            1|          1|   N|                N|\n",
            "|R1ZH0HSH38IOTZ|          5|            0|          0|   N|                Y|\n",
            "|R3H53KLLC210XI|          4|            0|          0|   N|                Y|\n",
            "|R3OOR877NGA8JK|          3|            0|          0|   N|                Y|\n",
            "|R1BY7WKOZ3KMH0|          2|            0|          0|   N|                Y|\n",
            "| RXP1TFSWE8EG9|          5|            0|          0|   N|                Y|\n",
            "|R3J44DPP12OTLJ|          5|            0|          0|   N|                Y|\n",
            "| RFOV69SK0T676|          5|            0|          0|   N|                Y|\n",
            "|R2HUWDNW62FOL3|          1|            0|          0|   N|                Y|\n",
            "|R1KSU30XZGR452|          5|            0|          0|   N|                Y|\n",
            "|R2TZVLLTSHA07N|          5|            1|          1|   N|                Y|\n",
            "+--------------+-----------+-------------+-----------+----+-----------------+\n",
            "only showing top 20 rows\n",
            "\n"
          ]
        }
      ]
    },
    {
      "cell_type": "code",
      "source": [
        "vine_tvnotzero_df = vine_df.filter('total_votes>20')\n",
        "vine_tvnotzero_df.show()"
      ],
      "metadata": {
        "colab": {
          "base_uri": "https://localhost:8080/"
        },
        "id": "FNHelpZDZqKk",
        "outputId": "72337c68-cff9-4669-beda-3910f0c14279"
      },
      "execution_count": null,
      "outputs": [
        {
          "output_type": "stream",
          "name": "stdout",
          "text": [
            "+--------------+-----------+-------------+-----------+----+-----------------+\n",
            "|     review_id|star_rating|helpful_votes|total_votes|vine|verified_purchase|\n",
            "+--------------+-----------+-------------+-----------+----+-----------------+\n",
            "|R2243Y3OD8U6KQ|          5|           47|         61|   N|                N|\n",
            "|R2TGT0CDTCAAHW|          5|           21|         23|   N|                Y|\n",
            "| RX4D22YSXEF4P|          1|           37|         38|   N|                Y|\n",
            "|R3FL2NTLFUSPTQ|          5|           33|         37|   N|                N|\n",
            "|R3QTP3YNZXAPPF|          3|           23|         24|   N|                Y|\n",
            "|R36V6V42VN5AS5|          5|           34|         37|   N|                Y|\n",
            "|R27LZWE27BJPOB|          5|           22|         23|   N|                N|\n",
            "|  RMRD6SMF2AUQ|          3|            4|         21|   N|                N|\n",
            "| RMPCXKWX3T57Y|          1|            1|         73|   N|                N|\n",
            "|R1P7GJ0IN2BRNH|          5|           37|         37|   N|                Y|\n",
            "|R3JM8Z4SP9N3H2|          1|            4|         23|   N|                N|\n",
            "|R2J0ZZGFXKM8KR|          2|           21|         22|   N|                Y|\n",
            "|R238ZSG6TSUBNX|          5|           27|         27|   N|                Y|\n",
            "| RC6Y8GYIQZ8YU|          3|           72|         85|   N|                Y|\n",
            "| RFL3TJED8C240|          5|           13|         24|   N|                N|\n",
            "|R3D4P7A8Q1C70F|          5|           22|         27|   N|                Y|\n",
            "|R3PRNAQVQBB9M6|          1|           21|         30|   N|                Y|\n",
            "|R3JNDLZ3KACRLG|          5|           29|         33|   N|                N|\n",
            "|R1PVVYYY0Q1HZ0|          5|           21|         21|   N|                Y|\n",
            "|R1R9RU7JW0MFR2|          4|           20|         23|   Y|                N|\n",
            "+--------------+-----------+-------------+-----------+----+-----------------+\n",
            "only showing top 20 rows\n",
            "\n"
          ]
        }
      ]
    },
    {
      "cell_type": "code",
      "source": [
        "final_vine_df= vine_tvnotzero_df.filter('helpful_votes/total_votes>=0.5')\n",
        "final_vine_df.show()"
      ],
      "metadata": {
        "colab": {
          "base_uri": "https://localhost:8080/"
        },
        "id": "wBrfwrg1aSYA",
        "outputId": "ec8443bc-4811-4b59-eb76-944e5a105112"
      },
      "execution_count": null,
      "outputs": [
        {
          "output_type": "stream",
          "name": "stdout",
          "text": [
            "+--------------+-----------+-------------+-----------+----+-----------------+\n",
            "|     review_id|star_rating|helpful_votes|total_votes|vine|verified_purchase|\n",
            "+--------------+-----------+-------------+-----------+----+-----------------+\n",
            "|R2243Y3OD8U6KQ|          5|           47|         61|   N|                N|\n",
            "|R2TGT0CDTCAAHW|          5|           21|         23|   N|                Y|\n",
            "| RX4D22YSXEF4P|          1|           37|         38|   N|                Y|\n",
            "|R3FL2NTLFUSPTQ|          5|           33|         37|   N|                N|\n",
            "|R3QTP3YNZXAPPF|          3|           23|         24|   N|                Y|\n",
            "|R36V6V42VN5AS5|          5|           34|         37|   N|                Y|\n",
            "|R27LZWE27BJPOB|          5|           22|         23|   N|                N|\n",
            "|R1P7GJ0IN2BRNH|          5|           37|         37|   N|                Y|\n",
            "|R2J0ZZGFXKM8KR|          2|           21|         22|   N|                Y|\n",
            "|R238ZSG6TSUBNX|          5|           27|         27|   N|                Y|\n",
            "| RC6Y8GYIQZ8YU|          3|           72|         85|   N|                Y|\n",
            "| RFL3TJED8C240|          5|           13|         24|   N|                N|\n",
            "|R3D4P7A8Q1C70F|          5|           22|         27|   N|                Y|\n",
            "|R3PRNAQVQBB9M6|          1|           21|         30|   N|                Y|\n",
            "|R3JNDLZ3KACRLG|          5|           29|         33|   N|                N|\n",
            "|R1PVVYYY0Q1HZ0|          5|           21|         21|   N|                Y|\n",
            "|R1R9RU7JW0MFR2|          4|           20|         23|   Y|                N|\n",
            "|R1G9N0CW2982PA|          5|           21|         24|   N|                Y|\n",
            "|R2N8ZFHQBWHMDL|          2|           26|         28|   N|                Y|\n",
            "|R32L3HQ3OONLPQ|          4|           51|         54|   N|                Y|\n",
            "+--------------+-----------+-------------+-----------+----+-----------------+\n",
            "only showing top 20 rows\n",
            "\n"
          ]
        }
      ]
    },
    {
      "cell_type": "code",
      "source": [
        "vine_paid_df = final_vine_df.filter(\"vine=='Y'\")\n",
        "vine_paid_df.show()"
      ],
      "metadata": {
        "colab": {
          "base_uri": "https://localhost:8080/"
        },
        "id": "U_FfZ3Odrv4G",
        "outputId": "6afc9cb8-bfd5-4368-cb62-7c6bab80fc93"
      },
      "execution_count": null,
      "outputs": [
        {
          "output_type": "stream",
          "name": "stdout",
          "text": [
            "+--------------+-----------+-------------+-----------+----+-----------------+\n",
            "|     review_id|star_rating|helpful_votes|total_votes|vine|verified_purchase|\n",
            "+--------------+-----------+-------------+-----------+----+-----------------+\n",
            "|R1R9RU7JW0MFR2|          4|           20|         23|   Y|                N|\n",
            "|R19EFYNN3W8Q07|          5|           26|         32|   Y|                N|\n",
            "|R34DJ1R8AEU0SG|          5|           29|         35|   Y|                N|\n",
            "|R25P5CXK5L9RHF|          5|          146|        161|   Y|                N|\n",
            "|R2E9VZB3I4LSN5|          5|           55|         59|   Y|                N|\n",
            "| RKYLHZL7EPELX|          4|           19|         25|   Y|                N|\n",
            "|R1U13EKGQD3ZE6|          5|           22|         25|   Y|                N|\n",
            "| RYW05F1MUEF01|          5|           87|        102|   Y|                N|\n",
            "|R2SW4NXNO7HZJ5|          4|           28|         33|   Y|                N|\n",
            "|R2016NFLSUR97Y|          2|           26|         37|   Y|                N|\n",
            "| RFCV9QXJ3D79X|          3|           20|         22|   Y|                N|\n",
            "|R36779ZAY4ZT0Y|          3|           46|         50|   Y|                N|\n",
            "|R13PPTBWWV10Q6|          5|           19|         25|   Y|                N|\n",
            "|R2A3FFNJTDUBMV|          5|           20|         27|   Y|                N|\n",
            "|R3QQG4HUB214TM|          5|          111|        128|   Y|                N|\n",
            "|R3J9OSJNJB7KGM|          5|           70|         80|   Y|                N|\n",
            "| RIMYDUAAFXY2U|          5|           22|         23|   Y|                N|\n",
            "|R22CYBPLKWDK6F|          5|           47|         54|   Y|                N|\n",
            "|R1ETBDZ1LJ8CEL|          4|           28|         32|   Y|                N|\n",
            "|R28T5ISQ8AA7E5|          5|           40|         42|   Y|                N|\n",
            "+--------------+-----------+-------------+-----------+----+-----------------+\n",
            "only showing top 20 rows\n",
            "\n"
          ]
        }
      ]
    },
    {
      "cell_type": "code",
      "source": [
        "vine_not_paid_df = final_vine_df.filter(\"vine=='N'\")\n",
        "vine_not_paid_df.show()"
      ],
      "metadata": {
        "colab": {
          "base_uri": "https://localhost:8080/"
        },
        "id": "WYyQKeCPs1dd",
        "outputId": "e8989482-cee6-43b8-f805-8872e5303d38"
      },
      "execution_count": null,
      "outputs": [
        {
          "output_type": "stream",
          "name": "stdout",
          "text": [
            "+--------------+-----------+-------------+-----------+----+-----------------+\n",
            "|     review_id|star_rating|helpful_votes|total_votes|vine|verified_purchase|\n",
            "+--------------+-----------+-------------+-----------+----+-----------------+\n",
            "|R2243Y3OD8U6KQ|          5|           47|         61|   N|                N|\n",
            "|R2TGT0CDTCAAHW|          5|           21|         23|   N|                Y|\n",
            "| RX4D22YSXEF4P|          1|           37|         38|   N|                Y|\n",
            "|R3FL2NTLFUSPTQ|          5|           33|         37|   N|                N|\n",
            "|R3QTP3YNZXAPPF|          3|           23|         24|   N|                Y|\n",
            "|R36V6V42VN5AS5|          5|           34|         37|   N|                Y|\n",
            "|R27LZWE27BJPOB|          5|           22|         23|   N|                N|\n",
            "|R1P7GJ0IN2BRNH|          5|           37|         37|   N|                Y|\n",
            "|R2J0ZZGFXKM8KR|          2|           21|         22|   N|                Y|\n",
            "|R238ZSG6TSUBNX|          5|           27|         27|   N|                Y|\n",
            "| RC6Y8GYIQZ8YU|          3|           72|         85|   N|                Y|\n",
            "| RFL3TJED8C240|          5|           13|         24|   N|                N|\n",
            "|R3D4P7A8Q1C70F|          5|           22|         27|   N|                Y|\n",
            "|R3PRNAQVQBB9M6|          1|           21|         30|   N|                Y|\n",
            "|R3JNDLZ3KACRLG|          5|           29|         33|   N|                N|\n",
            "|R1PVVYYY0Q1HZ0|          5|           21|         21|   N|                Y|\n",
            "|R1G9N0CW2982PA|          5|           21|         24|   N|                Y|\n",
            "|R2N8ZFHQBWHMDL|          2|           26|         28|   N|                Y|\n",
            "|R32L3HQ3OONLPQ|          4|           51|         54|   N|                Y|\n",
            "|R2M6QP0EEROQRC|          1|           21|         26|   N|                Y|\n",
            "+--------------+-----------+-------------+-----------+----+-----------------+\n",
            "only showing top 20 rows\n",
            "\n"
          ]
        }
      ]
    },
    {
      "cell_type": "code",
      "source": [
        "vine_not_paid_df.count()"
      ],
      "metadata": {
        "colab": {
          "base_uri": "https://localhost:8080/"
        },
        "id": "dMp3VwX9tx2P",
        "outputId": "d233bc31-70e1-41d7-bec9-7458d6f3517e"
      },
      "execution_count": null,
      "outputs": [
        {
          "output_type": "execute_result",
          "data": {
            "text/plain": [
              "13480"
            ]
          },
          "metadata": {},
          "execution_count": 96
        }
      ]
    },
    {
      "cell_type": "code",
      "source": [
        "vine_paid_df.count()"
      ],
      "metadata": {
        "colab": {
          "base_uri": "https://localhost:8080/"
        },
        "id": "K8fAjfIzt7v-",
        "outputId": "2f059d26-6f79-47c8-d78c-705a7aa346b0"
      },
      "execution_count": null,
      "outputs": [
        {
          "output_type": "execute_result",
          "data": {
            "text/plain": [
              "59"
            ]
          },
          "metadata": {},
          "execution_count": 97
        }
      ]
    },
    {
      "cell_type": "code",
      "source": [
        "vine_not_paid_percent= (vine_not_paid_df.filter('star_rating==5').count()/vine_not_paid_df.count())*100\n",
        "vine_not_paid_percent"
      ],
      "metadata": {
        "colab": {
          "base_uri": "https://localhost:8080/"
        },
        "id": "SrkYGqI1s6Ih",
        "outputId": "4c95473b-8c4f-4315-c602-3390690b460f"
      },
      "execution_count": null,
      "outputs": [
        {
          "output_type": "execute_result",
          "data": {
            "text/plain": [
              "56.95845697329377"
            ]
          },
          "metadata": {},
          "execution_count": 93
        }
      ]
    },
    {
      "cell_type": "code",
      "source": [
        "vine_paid_percent= (vine_paid_df.filter('star_rating==5').count()/vine_paid_df.count())*100\n",
        "vine_paid_percent"
      ],
      "metadata": {
        "colab": {
          "base_uri": "https://localhost:8080/"
        },
        "id": "T9QpYFLgtXHA",
        "outputId": "fdd8e3ac-b0d5-448f-ab0f-d5441cdd627f"
      },
      "execution_count": null,
      "outputs": [
        {
          "output_type": "execute_result",
          "data": {
            "text/plain": [
              "57.6271186440678"
            ]
          },
          "metadata": {},
          "execution_count": 94
        }
      ]
    }
  ]
}